{
 "metadata": {
  "name": "",
  "signature": "sha256:d000bcdb7f3b0cd5da0ba9d75ff0fdb41398a5e65c7790f2bd823a0ac1edd66f"
 },
 "nbformat": 3,
 "nbformat_minor": 0,
 "worksheets": []
}