{
 "metadata": {
  "name": "",
  "signature": "sha256:ffd53f0e5b65d97c245925179776d7dbb2aecb8bc250f78ef6cced75273836d0"
 },
 "nbformat": 3,
 "nbformat_minor": 0,
 "worksheets": [
  {
   "cells": [
    {
     "cell_type": "code",
     "collapsed": false,
     "input": [
      "%matplotlib inline\n",
      "\n",
      "import pandas as pd\n",
      "import numpy as np\n",
      "import matplotlib.pyplot as plt\n",
      "\n",
      "df = pd.read_csv(\"datos.csv\")"
     ],
     "language": "python",
     "metadata": {},
     "outputs": [],
     "prompt_number": 17
    },
    {
     "cell_type": "code",
     "collapsed": false,
     "input": [
      "df.head()"
     ],
     "language": "python",
     "metadata": {},
     "outputs": [
      {
       "html": [
        "<div style=\"max-width:1500px;overflow:auto;\">\n",
        "<table border=\"1\" class=\"dataframe\">\n",
        "  <thead>\n",
        "    <tr style=\"text-align: right;\">\n",
        "      <th></th>\n",
        "      <th>FOLIO_ESTATAL</th>\n",
        "      <th>NOMBRE</th>\n",
        "      <th>A_PATERNO</th>\n",
        "      <th>A_MATERNO</th>\n",
        "      <th>MUNICIPIO</th>\n",
        "      <th>LOCALIDAD</th>\n",
        "      <th>CONCEPTO_APOYO</th>\n",
        "      <th>DESAGREGADO_DE_CONCEPTO</th>\n",
        "      <th>CLASIFICACION</th>\n",
        "      <th>MONTO_TOAL_DE_PAGO</th>\n",
        "      <th>MONTO_FEDERAL</th>\n",
        "      <th>MONTO_ESTATAL</th>\n",
        "    </tr>\n",
        "  </thead>\n",
        "  <tbody>\n",
        "    <tr>\n",
        "      <th>0</th>\n",
        "      <td>JC1300000011</td>\n",
        "      <td>CARLOS ALEJANDRO</td>\n",
        "      <td>BEAS</td>\n",
        "      <td>RODRIGUEZ</td>\n",
        "      <td>ZACOALCO DE TORRES</td>\n",
        "      <td>BARRANCA DE SANTA CLARA</td>\n",
        "      <td>TRACTORES</td>\n",
        "      <td>TRACTOR</td>\n",
        "      <td>SORGO</td>\n",
        "      <td>100000</td>\n",
        "      <td>$ 80.000,00</td>\n",
        "      <td>$ 20.000,00</td>\n",
        "    </tr>\n",
        "    <tr>\n",
        "      <th>1</th>\n",
        "      <td>JC1300000012</td>\n",
        "      <td>MARIA DOLORES IMELDA</td>\n",
        "      <td>KRAUSE</td>\n",
        "      <td>BARRAGAN</td>\n",
        "      <td>ZACOALCO DE TORRES</td>\n",
        "      <td>ZACOALCO DE TORRES</td>\n",
        "      <td>ANIMALES, RECR\u00cdA DE ANIMALES Y MATERIAL GEN\u00c9TI...</td>\n",
        "      <td>SEMENTAL BOVINO CON REGISTRO GENEALOGICO Y EVA...</td>\n",
        "      <td>BOVINO CARNE</td>\n",
        "      <td>12500</td>\n",
        "      <td>$ 10.000,00</td>\n",
        "      <td>$ 2.500,00</td>\n",
        "    </tr>\n",
        "    <tr>\n",
        "      <th>2</th>\n",
        "      <td>JC1300000013</td>\n",
        "      <td>ARTURO</td>\n",
        "      <td>BRAMBILA</td>\n",
        "      <td>REGALADO</td>\n",
        "      <td>UNI\u00d3N DE TULA</td>\n",
        "      <td>EL LAUREL CHICO</td>\n",
        "      <td>ANIMALES, RECR\u00cdA DE ANIMALES Y MATERIAL GEN\u00c9TI...</td>\n",
        "      <td>SEMENTAL BOVINO CON REGISTRO GENEALOGICO Y EVA...</td>\n",
        "      <td>BOVINO CARNE</td>\n",
        "      <td>12500</td>\n",
        "      <td>$ 10.000,00</td>\n",
        "      <td>$ 2.500,00</td>\n",
        "    </tr>\n",
        "    <tr>\n",
        "      <th>3</th>\n",
        "      <td>JC1300000014</td>\n",
        "      <td>JORGE ARNALDO</td>\n",
        "      <td>CHAVEZ</td>\n",
        "      <td>GOMEZ</td>\n",
        "      <td>VALLE DE JU\u00c1REZ</td>\n",
        "      <td>VALLE DE JU\u00c1REZ</td>\n",
        "      <td>MAQUINARIA Y EQUIPO PARA PRODUCCI\u00d3N B\u00c1SICA PEC...</td>\n",
        "      <td>ORDE\u00d1ADORA</td>\n",
        "      <td>BOVINO LECHE Y DOBLE PROPOSITO</td>\n",
        "      <td>31750</td>\n",
        "      <td>$ 25.400,00</td>\n",
        "      <td>$ 6.350,00</td>\n",
        "    </tr>\n",
        "    <tr>\n",
        "      <th>4</th>\n",
        "      <td>JC1300000021</td>\n",
        "      <td>JOSE LUIS</td>\n",
        "      <td>GARAY</td>\n",
        "      <td>GARCIA</td>\n",
        "      <td>LAGOS DE MORENO</td>\n",
        "      <td>EL CAJ\u00d3N DE ARRIBA</td>\n",
        "      <td>TRACTORES</td>\n",
        "      <td>TRACTOR</td>\n",
        "      <td>MAIZ</td>\n",
        "      <td>100000</td>\n",
        "      <td>$ 80.000,00</td>\n",
        "      <td>$ 20.000,00</td>\n",
        "    </tr>\n",
        "  </tbody>\n",
        "</table>\n",
        "</div>"
       ],
       "metadata": {},
       "output_type": "pyout",
       "prompt_number": 18,
       "text": [
        "  FOLIO_ESTATAL                NOMBRE A_PATERNO  A_MATERNO  \\\n",
        "0  JC1300000011      CARLOS ALEJANDRO      BEAS  RODRIGUEZ   \n",
        "1  JC1300000012  MARIA DOLORES IMELDA    KRAUSE   BARRAGAN   \n",
        "2  JC1300000013                ARTURO  BRAMBILA   REGALADO   \n",
        "3  JC1300000014         JORGE ARNALDO    CHAVEZ      GOMEZ   \n",
        "4  JC1300000021             JOSE LUIS     GARAY     GARCIA   \n",
        "\n",
        "            MUNICIPIO                LOCALIDAD  \\\n",
        "0  ZACOALCO DE TORRES  BARRANCA DE SANTA CLARA   \n",
        "1  ZACOALCO DE TORRES       ZACOALCO DE TORRES   \n",
        "2       UNI\u00d3N DE TULA          EL LAUREL CHICO   \n",
        "3     VALLE DE JU\u00c1REZ          VALLE DE JU\u00c1REZ   \n",
        "4     LAGOS DE MORENO       EL CAJ\u00d3N DE ARRIBA   \n",
        "\n",
        "                                      CONCEPTO_APOYO  \\\n",
        "0                                          TRACTORES   \n",
        "1  ANIMALES, RECR\u00cdA DE ANIMALES Y MATERIAL GEN\u00c9TI...   \n",
        "2  ANIMALES, RECR\u00cdA DE ANIMALES Y MATERIAL GEN\u00c9TI...   \n",
        "3  MAQUINARIA Y EQUIPO PARA PRODUCCI\u00d3N B\u00c1SICA PEC...   \n",
        "4                                          TRACTORES   \n",
        "\n",
        "                             DESAGREGADO_DE_CONCEPTO  \\\n",
        "0                                            TRACTOR   \n",
        "1  SEMENTAL BOVINO CON REGISTRO GENEALOGICO Y EVA...   \n",
        "2  SEMENTAL BOVINO CON REGISTRO GENEALOGICO Y EVA...   \n",
        "3                                         ORDE\u00d1ADORA   \n",
        "4                                            TRACTOR   \n",
        "\n",
        "                    CLASIFICACION  MONTO_TOAL_DE_PAGO  MONTO_FEDERAL  \\\n",
        "0                           SORGO              100000   $ 80.000,00    \n",
        "1                    BOVINO CARNE               12500   $ 10.000,00    \n",
        "2                    BOVINO CARNE               12500   $ 10.000,00    \n",
        "3  BOVINO LECHE Y DOBLE PROPOSITO               31750   $ 25.400,00    \n",
        "4                            MAIZ              100000   $ 80.000,00    \n",
        "\n",
        "   MONTO_ESTATAL  \n",
        "0   $ 20.000,00   \n",
        "1    $ 2.500,00   \n",
        "2    $ 2.500,00   \n",
        "3    $ 6.350,00   \n",
        "4   $ 20.000,00   "
       ]
      }
     ],
     "prompt_number": 18
    },
    {
     "cell_type": "code",
     "collapsed": false,
     "input": [
      "df.describe()"
     ],
     "language": "python",
     "metadata": {},
     "outputs": [
      {
       "html": [
        "<div style=\"max-width:1500px;overflow:auto;\">\n",
        "<table border=\"1\" class=\"dataframe\">\n",
        "  <thead>\n",
        "    <tr style=\"text-align: right;\">\n",
        "      <th></th>\n",
        "      <th>MONTO_TOAL_DE_PAGO</th>\n",
        "    </tr>\n",
        "  </thead>\n",
        "  <tbody>\n",
        "    <tr>\n",
        "      <th>count</th>\n",
        "      <td>4125.000000</td>\n",
        "    </tr>\n",
        "    <tr>\n",
        "      <th>mean</th>\n",
        "      <td>45748.931120</td>\n",
        "    </tr>\n",
        "    <tr>\n",
        "      <th>std</th>\n",
        "      <td>96890.910113</td>\n",
        "    </tr>\n",
        "    <tr>\n",
        "      <th>min</th>\n",
        "      <td>100.000000</td>\n",
        "    </tr>\n",
        "    <tr>\n",
        "      <th>25%</th>\n",
        "      <td>12500.000000</td>\n",
        "    </tr>\n",
        "    <tr>\n",
        "      <th>50%</th>\n",
        "      <td>20000.000000</td>\n",
        "    </tr>\n",
        "    <tr>\n",
        "      <th>75%</th>\n",
        "      <td>63500.000000</td>\n",
        "    </tr>\n",
        "    <tr>\n",
        "      <th>max</th>\n",
        "      <td>3000000.000000</td>\n",
        "    </tr>\n",
        "  </tbody>\n",
        "</table>\n",
        "</div>"
       ],
       "metadata": {},
       "output_type": "pyout",
       "prompt_number": 19,
       "text": [
        "       MONTO_TOAL_DE_PAGO\n",
        "count         4125.000000\n",
        "mean         45748.931120\n",
        "std          96890.910113\n",
        "min            100.000000\n",
        "25%          12500.000000\n",
        "50%          20000.000000\n",
        "75%          63500.000000\n",
        "max        3000000.000000"
       ]
      }
     ],
     "prompt_number": 19
    },
    {
     "cell_type": "code",
     "collapsed": false,
     "input": [
      "df['NOMBRE'].value_counts()"
     ],
     "language": "python",
     "metadata": {},
     "outputs": [
      {
       "metadata": {},
       "output_type": "pyout",
       "prompt_number": 20,
       "text": [
        "JOSE                                                     96\n",
        "JOSE DE JESUS                                            75\n",
        "J. JESUS                                                 71\n",
        "JOSE LUIS                                                67\n",
        "SALVADOR                                                 67\n",
        "FRANCISCO                                                59\n",
        "MIGUEL                                                   59\n",
        "JUAN                                                     59\n",
        "RAMON                                                    55\n",
        "ANTONIO                                                  55\n",
        "PEDRO                                                    53\n",
        "FRANCISCO JAVIER                                         46\n",
        "ROBERTO                                                  40\n",
        "RUBEN                                                    39\n",
        "J. GUADALUPE                                             37\n",
        "MANUEL                                                   36\n",
        "IGNACIO                                                  33\n",
        "RAFAEL                                                   32\n",
        "ALEJANDRO                                                32\n",
        "RAMIRO                                                   31\n",
        "JESUS                                                    29\n",
        "JAVIER                                                   27\n",
        "MARTIN                                                   27\n",
        "JOSE MANUEL                                              26\n",
        "ARTURO                                                   24\n",
        "JUAN MANUEL                                              24\n",
        "MIGUEL ANGEL                                             24\n",
        "DAVID                                                    23\n",
        "ARMANDO                                                  23\n",
        "ALFREDO                                                  22\n",
        "                                                         ..\n",
        "VIVERO LA CURVA SA DE CV                                  1\n",
        "JORJE                                                     1\n",
        "SALOME                                                    1\n",
        "JOSE RAQUEL                                               1\n",
        "TIRSO                                                     1\n",
        "DAVID GERARDO                                             1\n",
        "ASOCIACION GANADERA LOCAL DE ZAPOTLAN DEL REY JALISCO     1\n",
        "ROSA ELENA                                                1\n",
        "HECTOR GOTARDO                                            1\n",
        "MARTHA HILDA                                              1\n",
        "FELICITAS                                                 1\n",
        "HECTOR ARNALDO                                            1\n",
        "FIDEL MOISES                                              1\n",
        "AHMED                                                     1\n",
        "WILFREDO                                                  1\n",
        "FAUSTINA                                                  1\n",
        "ANGELA                                                    1\n",
        "FELIX MARTIN                                              1\n",
        "RUBEN ANTONIO                                             1\n",
        "ENRIQUE JAVIER                                            1\n",
        "BLANCA ELIZABET                                           1\n",
        "J. ABEL                                                   1\n",
        "JOSE ROBERTO                                              1\n",
        "PIEDAD                                                    1\n",
        "OSWALDO BENJAMIN                                          1\n",
        "PRODUCTORES DEL VALLE DE TOLIMAN SPR DE RL DE CV          1\n",
        "JOSE MARIA CANDELARIO                                     1\n",
        "DIEGO                                                     1\n",
        "JOSE DE JESUS MARIA                                       1\n",
        "AGUACATERA RUELAS EL SAUSILLO S.P.R. DE R.L.              1\n",
        "dtype: int64"
       ]
      }
     ],
     "prompt_number": 20
    },
    {
     "cell_type": "code",
     "collapsed": false,
     "input": [
      "df[(df[\"A_PATERNO\"] == \".\")]['MONTO_TOAL_DE_PAGO']"
     ],
     "language": "python",
     "metadata": {},
     "outputs": [
      {
       "metadata": {},
       "output_type": "pyout",
       "prompt_number": 21,
       "text": [
        "102      100000.00\n",
        "260      100000.00\n",
        "447       19000.00\n",
        "448       32200.00\n",
        "449       37000.00\n",
        "450      100000.00\n",
        "546      100000.00\n",
        "579        2000.00\n",
        "580       13632.00\n",
        "581       26905.00\n",
        "582       54311.00\n",
        "687      100000.00\n",
        "731        8207.00\n",
        "732       19140.00\n",
        "733       23280.00\n",
        "734       36540.00\n",
        "766       99676.20\n",
        "887        7554.00\n",
        "888        9695.00\n",
        "1071     120000.00\n",
        "1072     207099.00\n",
        "1277      50000.00\n",
        "1278      65971.00\n",
        "1279      74605.00\n",
        "1280      87961.00\n",
        "1281     122544.00\n",
        "1282     158400.00\n",
        "1283     240519.00\n",
        "1359     100000.00\n",
        "1379       6367.00\n",
        "           ...    \n",
        "3748     100000.00\n",
        "3763     176850.00\n",
        "3764     334304.40\n",
        "3766       4002.00\n",
        "3767      16965.00\n",
        "3768      27000.00\n",
        "3769      34365.00\n",
        "3770      56700.00\n",
        "3771      62812.00\n",
        "3772      78300.00\n",
        "3773     120000.00\n",
        "3774     120000.00\n",
        "3775     135000.00\n",
        "3777      29243.00\n",
        "3778      35192.00\n",
        "3782      75000.00\n",
        "3783     328341.50\n",
        "3784     346347.75\n",
        "3792    1398024.00\n",
        "3797    3000000.00\n",
        "3798      80000.00\n",
        "3799     750000.00\n",
        "3800    2400000.00\n",
        "3801     500000.00\n",
        "3802     500000.00\n",
        "3803     250000.00\n",
        "3804     250000.00\n",
        "3805    2000000.00\n",
        "3806    1500000.00\n",
        "3807    1500000.00\n",
        "Name: MONTO_TOAL_DE_PAGO, dtype: float64"
       ]
      }
     ],
     "prompt_number": 21
    },
    {
     "cell_type": "code",
     "collapsed": false,
     "input": [
      "df[(df[\"A_PATERNO\"] == \".\") & ]['MONTO_TOAL_DE_PAGO'].sum()"
     ],
     "language": "python",
     "metadata": {},
     "outputs": [
      {
       "ename": "SyntaxError",
       "evalue": "invalid syntax (<ipython-input-22-95f0d2e949a3>, line 1)",
       "output_type": "pyerr",
       "traceback": [
        "\u001b[0;36m  File \u001b[0;32m\"<ipython-input-22-95f0d2e949a3>\"\u001b[0;36m, line \u001b[0;32m1\u001b[0m\n\u001b[0;31m    df[(df[\"A_PATERNO\"] == \".\") & ]['MONTO_TOAL_DE_PAGO'].sum()\u001b[0m\n\u001b[0m                                  ^\u001b[0m\n\u001b[0;31mSyntaxError\u001b[0m\u001b[0;31m:\u001b[0m invalid syntax\n"
       ]
      }
     ],
     "prompt_number": 22
    },
    {
     "cell_type": "code",
     "collapsed": false,
     "input": [
      "df['MONTO_TOAL_DE_PAGO'].sum()"
     ],
     "language": "python",
     "metadata": {},
     "outputs": [
      {
       "metadata": {},
       "output_type": "pyout",
       "prompt_number": 23,
       "text": [
        "188714340.86999995"
       ]
      }
     ],
     "prompt_number": 23
    },
    {
     "cell_type": "code",
     "collapsed": false,
     "input": [
      "(df[(df[\"A_PATERNO\"] == \".\")]['MONTO_TOAL_DE_PAGO'].sum()/df['MONTO_TOAL_DE_PAGO'].sum())*100"
     ],
     "language": "python",
     "metadata": {},
     "outputs": [
      {
       "metadata": {},
       "output_type": "pyout",
       "prompt_number": 24,
       "text": [
        "15.399053715805719"
       ]
      }
     ],
     "prompt_number": 24
    },
    {
     "cell_type": "code",
     "collapsed": false,
     "input": [
      "plt.style.use('ggplot')\n",
      "df.plot()"
     ],
     "language": "python",
     "metadata": {},
     "outputs": [
      {
       "metadata": {},
       "output_type": "pyout",
       "prompt_number": 25,
       "text": [
        "<matplotlib.axes._subplots.AxesSubplot at 0x7f4c041b8750>"
       ]
      },
      {
       "metadata": {},
       "output_type": "display_data",
       "png": "[encoded data removed]",
       "text": [
        "<matplotlib.figure.Figure at 0x7f4c0469e750>"
       ]
      }
     ],
     "prompt_number": 25
    },
    {
     "cell_type": "code",
     "collapsed": false,
     "input": [
      "df = df.sort(['MONTO_TOAL_DE_PAGO'], ascending=[1])\n",
      "df.plot()"
     ],
     "language": "python",
     "metadata": {},
     "outputs": [
      {
       "metadata": {},
       "output_type": "pyout",
       "prompt_number": 27,
       "text": [
        "<matplotlib.axes._subplots.AxesSubplot at 0x7f4c044ec450>"
       ]
      },
      {
       "metadata": {},
       "output_type": "display_data",
       "png": "[encoded data removed]",
       "text": [
        "<matplotlib.figure.Figure at 0x7f4c06dba350>"
       ]
      }
     ],
     "prompt_number": 27
    },
    {
     "cell_type": "code",
     "collapsed": false,
     "input": [
      "df.head()"
     ],
     "language": "python",
     "metadata": {},
     "outputs": [
      {
       "html": [
        "<div style=\"max-width:1500px;overflow:auto;\">\n",
        "<table border=\"1\" class=\"dataframe\">\n",
        "  <thead>\n",
        "    <tr style=\"text-align: right;\">\n",
        "      <th></th>\n",
        "      <th>FOLIO_ESTATAL</th>\n",
        "      <th>NOMBRE</th>\n",
        "      <th>A_PATERNO</th>\n",
        "      <th>A_MATERNO</th>\n",
        "      <th>MUNICIPIO</th>\n",
        "      <th>LOCALIDAD</th>\n",
        "      <th>CONCEPTO_APOYO</th>\n",
        "      <th>DESAGREGADO_DE_CONCEPTO</th>\n",
        "      <th>CLASIFICACION</th>\n",
        "      <th>MONTO_TOAL_DE_PAGO</th>\n",
        "      <th>MONTO_FEDERAL</th>\n",
        "      <th>MONTO_ESTATAL</th>\n",
        "    </tr>\n",
        "  </thead>\n",
        "  <tbody>\n",
        "    <tr>\n",
        "      <th>80</th>\n",
        "      <td>JC1300000161</td>\n",
        "      <td>LIBRADA</td>\n",
        "      <td>RANGEL</td>\n",
        "      <td>MUNGUIA</td>\n",
        "      <td>TECALITL\u00c1N</td>\n",
        "      <td>TECALITL\u00c1N</td>\n",
        "      <td>MAQUINARIA Y EQUIPO PARA PRODUCCI\u00d3N B\u00c1SICA PEC...</td>\n",
        "      <td>ALZAS</td>\n",
        "      <td>APICOLA</td>\n",
        "      <td>100</td>\n",
        "      <td>$ 80,00</td>\n",
        "      <td>$ 20,00</td>\n",
        "    </tr>\n",
        "    <tr>\n",
        "      <th>2915</th>\n",
        "      <td>JC1300007504</td>\n",
        "      <td>JOSE FELIX</td>\n",
        "      <td>FLORES</td>\n",
        "      <td>MARTINEZ</td>\n",
        "      <td>AMATIT\u00c1N</td>\n",
        "      <td>LA VILLA DE CUER\u00c1MBARO</td>\n",
        "      <td>IMPLEMENTOS AGR\u00cdCOLAS</td>\n",
        "      <td>MAQUINARIA Y EQUIPO PRODUCCI\u00d3N B\u00c1SICA AGR\u00cdCOLA</td>\n",
        "      <td>MAIZ</td>\n",
        "      <td>290</td>\n",
        "      <td>$ 232,00</td>\n",
        "      <td>$ 58,00</td>\n",
        "    </tr>\n",
        "    <tr>\n",
        "      <th>268</th>\n",
        "      <td>JC1300000647</td>\n",
        "      <td>MANUEL</td>\n",
        "      <td>MARTINEZ</td>\n",
        "      <td>MORFIN</td>\n",
        "      <td>TECALITL\u00c1N</td>\n",
        "      <td>LA AMARILLERA</td>\n",
        "      <td>MAQUINARIA Y EQUIPO PRODUCCI\u00d3N B\u00c1SICA AGR\u00cdCOLA</td>\n",
        "      <td>ASPERSORA DE AGUILON</td>\n",
        "      <td>MAIZ</td>\n",
        "      <td>360</td>\n",
        "      <td>$ 288,00</td>\n",
        "      <td>$ 72,00</td>\n",
        "    </tr>\n",
        "    <tr>\n",
        "      <th>3142</th>\n",
        "      <td>JC1300008337</td>\n",
        "      <td>JOSE</td>\n",
        "      <td>MU\u00d1OZ</td>\n",
        "      <td>GARCIA</td>\n",
        "      <td>COLOTL\u00c1N</td>\n",
        "      <td>LOS VELIZ (LOS VELEZ)</td>\n",
        "      <td>MAQUINARIA Y EQUIPO PARA PRODUCCI\u00d3N B\u00c1SICA PEC...</td>\n",
        "      <td>PISO PARA COLMENA</td>\n",
        "      <td>APICOLA</td>\n",
        "      <td>390</td>\n",
        "      <td>$ 312,00</td>\n",
        "      <td>$ 78,00</td>\n",
        "    </tr>\n",
        "    <tr>\n",
        "      <th>2916</th>\n",
        "      <td>JC1300007504</td>\n",
        "      <td>JOSE FELIX</td>\n",
        "      <td>FLORES</td>\n",
        "      <td>MARTINEZ</td>\n",
        "      <td>AMATIT\u00c1N</td>\n",
        "      <td>LA VILLA DE CUER\u00c1MBARO</td>\n",
        "      <td>IMPLEMENTOS AGR\u00cdCOLAS</td>\n",
        "      <td>MAQUINARIA Y EQUIPO PRODUCCI\u00d3N B\u00c1SICA AGR\u00cdCOLA</td>\n",
        "      <td>MAIZ</td>\n",
        "      <td>560</td>\n",
        "      <td>$ 448,00</td>\n",
        "      <td>$ 112,00</td>\n",
        "    </tr>\n",
        "  </tbody>\n",
        "</table>\n",
        "</div>"
       ],
       "metadata": {},
       "output_type": "pyout",
       "prompt_number": 28,
       "text": [
        "     FOLIO_ESTATAL      NOMBRE A_PATERNO A_MATERNO   MUNICIPIO  \\\n",
        "80    JC1300000161     LIBRADA    RANGEL   MUNGUIA  TECALITL\u00c1N   \n",
        "2915  JC1300007504  JOSE FELIX    FLORES  MARTINEZ    AMATIT\u00c1N   \n",
        "268   JC1300000647      MANUEL  MARTINEZ    MORFIN  TECALITL\u00c1N   \n",
        "3142  JC1300008337        JOSE     MU\u00d1OZ    GARCIA    COLOTL\u00c1N   \n",
        "2916  JC1300007504  JOSE FELIX    FLORES  MARTINEZ    AMATIT\u00c1N   \n",
        "\n",
        "                   LOCALIDAD  \\\n",
        "80                TECALITL\u00c1N   \n",
        "2915  LA VILLA DE CUER\u00c1MBARO   \n",
        "268            LA AMARILLERA   \n",
        "3142   LOS VELIZ (LOS VELEZ)   \n",
        "2916  LA VILLA DE CUER\u00c1MBARO   \n",
        "\n",
        "                                         CONCEPTO_APOYO  \\\n",
        "80    MAQUINARIA Y EQUIPO PARA PRODUCCI\u00d3N B\u00c1SICA PEC...   \n",
        "2915                              IMPLEMENTOS AGR\u00cdCOLAS   \n",
        "268      MAQUINARIA Y EQUIPO PRODUCCI\u00d3N B\u00c1SICA AGR\u00cdCOLA   \n",
        "3142  MAQUINARIA Y EQUIPO PARA PRODUCCI\u00d3N B\u00c1SICA PEC...   \n",
        "2916                              IMPLEMENTOS AGR\u00cdCOLAS   \n",
        "\n",
        "                             DESAGREGADO_DE_CONCEPTO CLASIFICACION  \\\n",
        "80                                             ALZAS       APICOLA   \n",
        "2915  MAQUINARIA Y EQUIPO PRODUCCI\u00d3N B\u00c1SICA AGR\u00cdCOLA          MAIZ   \n",
        "268                             ASPERSORA DE AGUILON          MAIZ   \n",
        "3142                               PISO PARA COLMENA       APICOLA   \n",
        "2916  MAQUINARIA Y EQUIPO PRODUCCI\u00d3N B\u00c1SICA AGR\u00cdCOLA          MAIZ   \n",
        "\n",
        "      MONTO_TOAL_DE_PAGO MONTO_FEDERAL MONTO_ESTATAL  \n",
        "80                   100      $ 80,00       $ 20,00   \n",
        "2915                 290     $ 232,00       $ 58,00   \n",
        "268                  360     $ 288,00       $ 72,00   \n",
        "3142                 390     $ 312,00       $ 78,00   \n",
        "2916                 560     $ 448,00      $ 112,00   "
       ]
      }
     ],
     "prompt_number": 28
    },
    {
     "cell_type": "code",
     "collapsed": false,
     "input": [
      "df[\"MONTO_TOAL_DE_PAGO\"].sum()"
     ],
     "language": "python",
     "metadata": {},
     "outputs": [
      {
       "metadata": {},
       "output_type": "pyout",
       "prompt_number": 30,
       "text": [
        "188714340.86999997"
       ]
      }
     ],
     "prompt_number": 30
    },
    {
     "cell_type": "code",
     "collapsed": false,
     "input": [
      "df[\"MONTO_TOAL_DE_PAGO\"].describe()"
     ],
     "language": "python",
     "metadata": {},
     "outputs": [
      {
       "metadata": {},
       "output_type": "pyout",
       "prompt_number": 31,
       "text": [
        "count       4125.000000\n",
        "mean       45748.931120\n",
        "std        96890.910113\n",
        "min          100.000000\n",
        "25%        12500.000000\n",
        "50%        20000.000000\n",
        "75%        63500.000000\n",
        "max      3000000.000000\n",
        "Name: MONTO_TOAL_DE_PAGO, dtype: float64"
       ]
      }
     ],
     "prompt_number": 31
    },
    {
     "cell_type": "code",
     "collapsed": false,
     "input": [
      "df[\"FOLIO_ESTATAL\", \"MONTO_TOAL_DE_PAGO\"].plot()"
     ],
     "language": "python",
     "metadata": {},
     "outputs": [
      {
       "ename": "KeyError",
       "evalue": "('FOLIO_ESTATAL', 'MONTO_TOAL_DE_PAGO')",
       "output_type": "pyerr",
       "traceback": [
        "\u001b[0;31m---------------------------------------------------------------------------\u001b[0m\n\u001b[0;31mKeyError\u001b[0m                                  Traceback (most recent call last)",
        "\u001b[0;32m<ipython-input-33-c1853eafcf3e>\u001b[0m in \u001b[0;36m<module>\u001b[0;34m()\u001b[0m\n\u001b[0;32m----> 1\u001b[0;31m \u001b[0mdf\u001b[0m\u001b[0;34m[\u001b[0m\u001b[0;34m\"FOLIO_ESTATAL\"\u001b[0m\u001b[0;34m,\u001b[0m \u001b[0;34m\"MONTO_TOAL_DE_PAGO\"\u001b[0m\u001b[0;34m]\u001b[0m\u001b[0;34m.\u001b[0m\u001b[0mplot\u001b[0m\u001b[0;34m(\u001b[0m\u001b[0;34m)\u001b[0m\u001b[0;34m\u001b[0m\u001b[0m\n\u001b[0m",
        "\u001b[0;32m/usr/local/lib/python2.7/dist-packages/pandas/core/frame.pyc\u001b[0m in \u001b[0;36m__getitem__\u001b[0;34m(self, key)\u001b[0m\n\u001b[1;32m   1795\u001b[0m             \u001b[0;32mreturn\u001b[0m \u001b[0mself\u001b[0m\u001b[0;34m.\u001b[0m\u001b[0m_getitem_multilevel\u001b[0m\u001b[0;34m(\u001b[0m\u001b[0mkey\u001b[0m\u001b[0;34m)\u001b[0m\u001b[0;34m\u001b[0m\u001b[0m\n\u001b[1;32m   1796\u001b[0m         \u001b[0;32melse\u001b[0m\u001b[0;34m:\u001b[0m\u001b[0;34m\u001b[0m\u001b[0m\n\u001b[0;32m-> 1797\u001b[0;31m             \u001b[0;32mreturn\u001b[0m \u001b[0mself\u001b[0m\u001b[0;34m.\u001b[0m\u001b[0m_getitem_column\u001b[0m\u001b[0;34m(\u001b[0m\u001b[0mkey\u001b[0m\u001b[0;34m)\u001b[0m\u001b[0;34m\u001b[0m\u001b[0m\n\u001b[0m\u001b[1;32m   1798\u001b[0m \u001b[0;34m\u001b[0m\u001b[0m\n\u001b[1;32m   1799\u001b[0m     \u001b[0;32mdef\u001b[0m \u001b[0m_getitem_column\u001b[0m\u001b[0;34m(\u001b[0m\u001b[0mself\u001b[0m\u001b[0;34m,\u001b[0m \u001b[0mkey\u001b[0m\u001b[0;34m)\u001b[0m\u001b[0;34m:\u001b[0m\u001b[0;34m\u001b[0m\u001b[0m\n",
        "\u001b[0;32m/usr/local/lib/python2.7/dist-packages/pandas/core/frame.pyc\u001b[0m in \u001b[0;36m_getitem_column\u001b[0;34m(self, key)\u001b[0m\n\u001b[1;32m   1802\u001b[0m         \u001b[0;31m# get column\u001b[0m\u001b[0;34m\u001b[0m\u001b[0;34m\u001b[0m\u001b[0m\n\u001b[1;32m   1803\u001b[0m         \u001b[0;32mif\u001b[0m \u001b[0mself\u001b[0m\u001b[0;34m.\u001b[0m\u001b[0mcolumns\u001b[0m\u001b[0;34m.\u001b[0m\u001b[0mis_unique\u001b[0m\u001b[0;34m:\u001b[0m\u001b[0;34m\u001b[0m\u001b[0m\n\u001b[0;32m-> 1804\u001b[0;31m             \u001b[0;32mreturn\u001b[0m \u001b[0mself\u001b[0m\u001b[0;34m.\u001b[0m\u001b[0m_get_item_cache\u001b[0m\u001b[0;34m(\u001b[0m\u001b[0mkey\u001b[0m\u001b[0;34m)\u001b[0m\u001b[0;34m\u001b[0m\u001b[0m\n\u001b[0m\u001b[1;32m   1805\u001b[0m \u001b[0;34m\u001b[0m\u001b[0m\n\u001b[1;32m   1806\u001b[0m         \u001b[0;31m# duplicate columns & possible reduce dimensionaility\u001b[0m\u001b[0;34m\u001b[0m\u001b[0;34m\u001b[0m\u001b[0m\n",
        "\u001b[0;32m/usr/local/lib/python2.7/dist-packages/pandas/core/generic.pyc\u001b[0m in \u001b[0;36m_get_item_cache\u001b[0;34m(self, item)\u001b[0m\n\u001b[1;32m   1082\u001b[0m         \u001b[0mres\u001b[0m \u001b[0;34m=\u001b[0m \u001b[0mcache\u001b[0m\u001b[0;34m.\u001b[0m\u001b[0mget\u001b[0m\u001b[0;34m(\u001b[0m\u001b[0mitem\u001b[0m\u001b[0;34m)\u001b[0m\u001b[0;34m\u001b[0m\u001b[0m\n\u001b[1;32m   1083\u001b[0m         \u001b[0;32mif\u001b[0m \u001b[0mres\u001b[0m \u001b[0;32mis\u001b[0m \u001b[0mNone\u001b[0m\u001b[0;34m:\u001b[0m\u001b[0;34m\u001b[0m\u001b[0m\n\u001b[0;32m-> 1084\u001b[0;31m             \u001b[0mvalues\u001b[0m \u001b[0;34m=\u001b[0m \u001b[0mself\u001b[0m\u001b[0;34m.\u001b[0m\u001b[0m_data\u001b[0m\u001b[0;34m.\u001b[0m\u001b[0mget\u001b[0m\u001b[0;34m(\u001b[0m\u001b[0mitem\u001b[0m\u001b[0;34m)\u001b[0m\u001b[0;34m\u001b[0m\u001b[0m\n\u001b[0m\u001b[1;32m   1085\u001b[0m             \u001b[0mres\u001b[0m \u001b[0;34m=\u001b[0m \u001b[0mself\u001b[0m\u001b[0;34m.\u001b[0m\u001b[0m_box_item_values\u001b[0m\u001b[0;34m(\u001b[0m\u001b[0mitem\u001b[0m\u001b[0;34m,\u001b[0m \u001b[0mvalues\u001b[0m\u001b[0;34m)\u001b[0m\u001b[0;34m\u001b[0m\u001b[0m\n\u001b[1;32m   1086\u001b[0m             \u001b[0mcache\u001b[0m\u001b[0;34m[\u001b[0m\u001b[0mitem\u001b[0m\u001b[0;34m]\u001b[0m \u001b[0;34m=\u001b[0m \u001b[0mres\u001b[0m\u001b[0;34m\u001b[0m\u001b[0m\n",
        "\u001b[0;32m/usr/local/lib/python2.7/dist-packages/pandas/core/internals.pyc\u001b[0m in \u001b[0;36mget\u001b[0;34m(self, item, fastpath)\u001b[0m\n\u001b[1;32m   2849\u001b[0m \u001b[0;34m\u001b[0m\u001b[0m\n\u001b[1;32m   2850\u001b[0m             \u001b[0;32mif\u001b[0m \u001b[0;32mnot\u001b[0m \u001b[0misnull\u001b[0m\u001b[0;34m(\u001b[0m\u001b[0mitem\u001b[0m\u001b[0;34m)\u001b[0m\u001b[0;34m:\u001b[0m\u001b[0;34m\u001b[0m\u001b[0m\n\u001b[0;32m-> 2851\u001b[0;31m                 \u001b[0mloc\u001b[0m \u001b[0;34m=\u001b[0m \u001b[0mself\u001b[0m\u001b[0;34m.\u001b[0m\u001b[0mitems\u001b[0m\u001b[0;34m.\u001b[0m\u001b[0mget_loc\u001b[0m\u001b[0;34m(\u001b[0m\u001b[0mitem\u001b[0m\u001b[0;34m)\u001b[0m\u001b[0;34m\u001b[0m\u001b[0m\n\u001b[0m\u001b[1;32m   2852\u001b[0m             \u001b[0;32melse\u001b[0m\u001b[0;34m:\u001b[0m\u001b[0;34m\u001b[0m\u001b[0m\n\u001b[1;32m   2853\u001b[0m                 \u001b[0mindexer\u001b[0m \u001b[0;34m=\u001b[0m \u001b[0mnp\u001b[0m\u001b[0;34m.\u001b[0m\u001b[0marange\u001b[0m\u001b[0;34m(\u001b[0m\u001b[0mlen\u001b[0m\u001b[0;34m(\u001b[0m\u001b[0mself\u001b[0m\u001b[0;34m.\u001b[0m\u001b[0mitems\u001b[0m\u001b[0;34m)\u001b[0m\u001b[0;34m)\u001b[0m\u001b[0;34m[\u001b[0m\u001b[0misnull\u001b[0m\u001b[0;34m(\u001b[0m\u001b[0mself\u001b[0m\u001b[0;34m.\u001b[0m\u001b[0mitems\u001b[0m\u001b[0;34m)\u001b[0m\u001b[0;34m]\u001b[0m\u001b[0;34m\u001b[0m\u001b[0m\n",
        "\u001b[0;32m/usr/local/lib/python2.7/dist-packages/pandas/core/index.pyc\u001b[0m in \u001b[0;36mget_loc\u001b[0;34m(self, key, method)\u001b[0m\n\u001b[1;32m   1570\u001b[0m         \"\"\"\n\u001b[1;32m   1571\u001b[0m         \u001b[0;32mif\u001b[0m \u001b[0mmethod\u001b[0m \u001b[0;32mis\u001b[0m \u001b[0mNone\u001b[0m\u001b[0;34m:\u001b[0m\u001b[0;34m\u001b[0m\u001b[0m\n\u001b[0;32m-> 1572\u001b[0;31m             \u001b[0;32mreturn\u001b[0m \u001b[0mself\u001b[0m\u001b[0;34m.\u001b[0m\u001b[0m_engine\u001b[0m\u001b[0;34m.\u001b[0m\u001b[0mget_loc\u001b[0m\u001b[0;34m(\u001b[0m\u001b[0m_values_from_object\u001b[0m\u001b[0;34m(\u001b[0m\u001b[0mkey\u001b[0m\u001b[0;34m)\u001b[0m\u001b[0;34m)\u001b[0m\u001b[0;34m\u001b[0m\u001b[0m\n\u001b[0m\u001b[1;32m   1573\u001b[0m \u001b[0;34m\u001b[0m\u001b[0m\n\u001b[1;32m   1574\u001b[0m         \u001b[0mindexer\u001b[0m \u001b[0;34m=\u001b[0m \u001b[0mself\u001b[0m\u001b[0;34m.\u001b[0m\u001b[0mget_indexer\u001b[0m\u001b[0;34m(\u001b[0m\u001b[0;34m[\u001b[0m\u001b[0mkey\u001b[0m\u001b[0;34m]\u001b[0m\u001b[0;34m,\u001b[0m \u001b[0mmethod\u001b[0m\u001b[0;34m=\u001b[0m\u001b[0mmethod\u001b[0m\u001b[0;34m)\u001b[0m\u001b[0;34m\u001b[0m\u001b[0m\n",
        "\u001b[0;32m/usr/local/lib/python2.7/dist-packages/pandas/index.so\u001b[0m in \u001b[0;36mpandas.index.IndexEngine.get_loc (pandas/index.c:3824)\u001b[0;34m()\u001b[0m\n",
        "\u001b[0;32m/usr/local/lib/python2.7/dist-packages/pandas/index.so\u001b[0m in \u001b[0;36mpandas.index.IndexEngine.get_loc (pandas/index.c:3704)\u001b[0;34m()\u001b[0m\n",
        "\u001b[0;32m/usr/local/lib/python2.7/dist-packages/pandas/hashtable.so\u001b[0m in \u001b[0;36mpandas.hashtable.PyObjectHashTable.get_item (pandas/hashtable.c:12280)\u001b[0;34m()\u001b[0m\n",
        "\u001b[0;32m/usr/local/lib/python2.7/dist-packages/pandas/hashtable.so\u001b[0m in \u001b[0;36mpandas.hashtable.PyObjectHashTable.get_item (pandas/hashtable.c:12231)\u001b[0;34m()\u001b[0m\n",
        "\u001b[0;31mKeyError\u001b[0m: ('FOLIO_ESTATAL', 'MONTO_TOAL_DE_PAGO')"
       ]
      }
     ],
     "prompt_number": 33
    },
    {
     "cell_type": "code",
     "collapsed": false,
     "input": [],
     "language": "python",
     "metadata": {},
     "outputs": []
    }
   ],
   "metadata": {}
  }
 ]
}